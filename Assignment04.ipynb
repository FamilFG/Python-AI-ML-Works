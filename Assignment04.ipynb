{
 "cells": [
  {
   "cell_type": "code",
   "execution_count": 36,
   "id": "f58887bd-b021-4bf6-8a0d-a8656996b548",
   "metadata": {},
   "outputs": [],
   "source": [
    "from abc import ABC, abstractmethod\n",
    "\n",
    "class Vehicle(ABC):\n",
    "    def __init__(self, brand, model, year, rental_price, isAvailable):\n",
    "        self.__brand = brand\n",
    "        self.__model = model\n",
    "        self.__year = year\n",
    "        self.__rental_price = rental_price\n",
    "        self.__isAvailable = isAvailable\n",
    "\n",
    "    def get_brand(self):\n",
    "        return self.__brand\n",
    "\n",
    "    def set_brand(self, brand):\n",
    "        self.__brand = brand\n",
    "\n",
    "    def get_model(self):\n",
    "        return self.__model\n",
    "\n",
    "    def set_model(self, model):\n",
    "        self.__model = model\n",
    "\n",
    "    def get_year(self):\n",
    "        return self.__year\n",
    "\n",
    "    def set_year(self, year):\n",
    "        self.__year = year\n",
    "\n",
    "    def get_rental_price(self):\n",
    "        return self.__rental_price\n",
    "\n",
    "    def set_rental_price(self, rental_price):\n",
    "        self.__rental_price = rental_price\n",
    "\n",
    "    def get_isAvailable(self):\n",
    "        return self.__isAvailable\n",
    "\n",
    "    def set_isAvailable(self, isAvailable):\n",
    "        self.__isAvailable = isAvailable\n",
    "        \n",
    "    def __str__(self):\n",
    "        return f\"{self.__brand} {self.__model} ({self.__year}) - ${self.__rental_price}/day - {'Available' if self.__isAvailable else 'Not Available'}\"\n",
    "    \n",
    "    @abstractmethod \n",
    "    def get_info(self):\n",
    "        pass\n",
    "        \n",
    "    @abstractmethod \n",
    "    def calculate_rent(self, days):\n",
    "        pass\n",
    "        \n",
    "    @abstractmethod \n",
    "    def toggle_availability(self):\n",
    "        pass\n",
    "\n",
    "    def __gt__(self, other):\n",
    "        return self.get_rental_price() > other.get_rental_price() \n",
    "\n",
    "    def __lt__(self, other):\n",
    "        return self.get_rental_price() < other.get_rental_price()\n",
    "        \n",
    "    def __eq__(self, other):\n",
    "        return self.get_brand() == other.get_brand() and self.get_model() == other.get_model()\n",
    "\n",
    "\n",
    "class Car(Vehicle):\n",
    "    def __init__(self, brand, model, year, rental_price, isAvailable, seats, fuel_type):\n",
    "        super().__init__(brand, model, year, rental_price, isAvailable)\n",
    "        self.__seats = seats\n",
    "        self.__fuel_type = fuel_type\n",
    "        \n",
    "    def get_seats(self):\n",
    "        return self.__seats\n",
    "\n",
    "    def set_seats(self, seats):\n",
    "        self.__seats = seats\n",
    "\n",
    "    def get_fuel_type(self):\n",
    "        return self.__fuel_type\n",
    "\n",
    "    def set_fuel_type(self, fuel_type):\n",
    "        self.__fuel_type = fuel_type\n",
    "        \n",
    "    def get_info(self):\n",
    "        return str(self)\n",
    "        \n",
    "    def calculate_rent(self, days):\n",
    "        print(f\"Rented {self.get_brand()} {self.get_model()} for {days} days\")\n",
    "        return days * self.get_rental_price()\n",
    "        \n",
    "    def toggle_availability(self):\n",
    "        self.set_isAvailable(not self.get_isAvailable())\n",
    "        print(f\"{self.get_brand()} {self.get_model()} availability changed\")\n",
    "        \n",
    "    def __str__(self):\n",
    "        return f\"{self.get_brand()} {self.get_model()} ({self.get_year()}) - ${self.get_rental_price()}/day - {'Available' if self.get_isAvailable() else 'Not Available'} - Seats: {self.__seats}, Fuel: {self.__fuel_type}\"\n",
    "\n",
    "\n",
    "class Motorcycle(Vehicle):\n",
    "    def __init__(self, brand, model, year, rental_price, isAvailable, eng_capacity):\n",
    "        super().__init__(brand, model, year, rental_price, isAvailable)\n",
    "        self.__eng_capacity = eng_capacity\n",
    "\n",
    "    def get_eng_capacity(self):\n",
    "        return self.__eng_capacity\n",
    "        \n",
    "    def set_eng_capacity(self, eng_capacity):\n",
    "        self.__eng_capacity = eng_capacity\n",
    "        \n",
    "    def get_info(self):\n",
    "        return str(self)\n",
    "\n",
    "    def calculate_rent(self, days):\n",
    "        print(f\"Rented {self.get_brand()} {self.get_model()} for {days} days\")\n",
    "        return days * self.get_rental_price()\n",
    "        \n",
    "    def toggle_availability(self):\n",
    "        self.set_isAvailable(not self.get_isAvailable())\n",
    "        print(f\"{self.get_brand()} {self.get_model()} availability changed\")\n",
    "\n",
    "    def __str__(self):\n",
    "        return f\"{self.get_brand()} {self.get_model()} ({self.get_year()}) - ${self.get_rental_price()}/day - {'Available' if self.get_isAvailable() else 'Not Available'} - Engine: {self.__eng_capacity}cc\"\n",
    "\n",
    "\n",
    "class Truck(Vehicle):\n",
    "    def __init__(self, brand, model, year, rental_price, isAvailable, max_load_capacity):\n",
    "        super().__init__(brand, model, year, rental_price, isAvailable)\n",
    "        self.__max_load_capacity = max_load_capacity\n",
    "        \n",
    "    def get_info(self):\n",
    "        return str(self)\n",
    "\n",
    "    def calculate_rent(self, days):\n",
    "        print(f\"Rented {self.get_brand()} {self.get_model()} for {days} days\")\n",
    "        return days * self.get_rental_price()\n",
    "        \n",
    "    def toggle_availability(self):\n",
    "        self.set_isAvailable(not self.get_isAvailable())\n",
    "        print(f\"{self.get_brand()} {self.get_model()} availability changed\")\n",
    "\n",
    "    def __str__(self):\n",
    "        return f\"{self.get_brand()} {self.get_model()} ({self.get_year()}) - ${self.get_rental_price()}/day - {'Available' if self.get_isAvailable() else 'Not Available'} - Max Load: {self.__max_load_capacity}kg\"\n",
    "\n",
    "\n",
    "class ElectricCar(Car):\n",
    "    def __init__(self, brand, model, year, rental_price, isAvailable, seats, fuel_type, bat_capacity):\n",
    "        super().__init__(brand, model, year, rental_price, isAvailable, seats, fuel_type)\n",
    "        self.__bat_capacity = bat_capacity\n",
    "        \n",
    "    def get_info(self):\n",
    "        return str(self)\n",
    "        \n",
    "    def calculate_rent(self, days):\n",
    "        print(f\"Rented {self.get_brand()} {self.get_model()} for {days} days\")\n",
    "        return days * self.get_rental_price()\n",
    "        \n",
    "    def toggle_availability(self):\n",
    "        self.set_isAvailable(not self.get_isAvailable())\n",
    "        print(f\"{self.get_brand()} {self.get_model()} availability changed\")\n",
    "        \n",
    "    def __str__(self):\n",
    "        return f\"{self.get_brand()} {self.get_model()} ({self.get_year()}) - ${self.get_rental_price()}/day - {'Available' if self.get_isAvailable() else 'Not Available'} - Seats: {self.get_seats()}, Fuel: {self.get_fuel_type()}, Battery: {self.__bat_capacity}kWh\"\n",
    "\n",
    "\n",
    "class RentalSystem:\n",
    "    def __init__(self):\n",
    "        self.__vehicles = []\n",
    "\n",
    "    def add_vehicle(self, vehicle):\n",
    "        self.__vehicles.append(vehicle)\n",
    "        print(f\"Added {vehicle.get_brand()} {vehicle.get_model()}\")\n",
    "\n",
    "    def list_available(self):\n",
    "        print(\"Available vehicles:\")\n",
    "        for veh in self.__vehicles:\n",
    "            if veh.get_isAvailable():\n",
    "                print(veh)\n",
    "                \n",
    "    def rent_vehicle(self, vehicle, days):\n",
    "        if vehicle.get_isAvailable():\n",
    "            vehicle.toggle_availability()\n",
    "            cost = vehicle.calculate_rent(days)\n",
    "            print(f\"Total rent: ${cost}\")\n",
    "            return cost\n",
    "        else:\n",
    "            print(\"Vehicle not available\")\n",
    "            return 0\n",
    "        \n",
    "    def return_vehicle(self, vehicle):\n",
    "        vehicle.toggle_availability()\n",
    "        print(f\"{vehicle.get_brand()} {vehicle.get_model()} returned\")\n",
    "\n",
    "    def search_vehicles(self, keyword):\n",
    "        for v in self.__vehicles:\n",
    "            if (keyword.lower() in v.get_brand().lower()) or (keyword.lower() in v.get_model().lower()):\n",
    "                print(\"Found:\", v)\n",
    "                return v\n",
    "        print(\"No such vehicle\")\n",
    "        return None\n",
    "        \n",
    "    def sort_by_prices(self):\n",
    "        self.__vehicles.sort(key=lambda v: v.get_rental_price())\n",
    "        print(\"By price\")\n",
    "\n",
    "    def sort_by_years(self):\n",
    "        self.__vehicles.sort(key=lambda v: v.get_year())\n",
    "        print(\"By price\")\n"
   ]
  },
  {
   "cell_type": "code",
   "execution_count": 10,
   "id": "48d91d91-387a-4c46-908e-513cef49a83f",
   "metadata": {},
   "outputs": [
    {
     "name": "stdout",
     "output_type": "stream",
     "text": [
      "Added Tesla S\n",
      "Added BMW X5\n",
      "Added Suzuki G5\n",
      "Added MAN GG\n",
      "tesla s (2007) - $400/day - Available - Seats: 4, Fuel: Electro, Battery: 4000kWh\n",
      "BMW X5 (2005) - $400/day - Available - Seats: 4, Fuel: Diesel\n",
      "Suzuki G5 (2005) - $300/day - Available - Engine: 3000cc\n",
      "MAN GG (2003) - $500/day - Available - Max Load: 7000kg\n"
     ]
    }
   ],
   "source": [
    "eleCar = ElectricCar(\"Tesla\", \"S\", 2007, 400, True, 4, \"Electric\", 4000)\n",
    "car1 = Car(\"BMW\", \"X5\", 2005, 400, True, 4, \"Diesel\")\n",
    "moto = Motorcycle(\"Suzuki\", \"G5\", 2005, 300, True, 3000)\n",
    "truck = Truck(\"MAN\", \"GG\", 2003, 500, True, 7000)\n",
    "\n",
    "rs = RentalSystem()\n",
    "rs.add_vehicle(eleCar)\n",
    "rs.add_vehicle(car1)\n",
    "rs.add_vehicle(moto)\n",
    "rs.add_vehicle(truck)\n",
    "\n",
    "print(EleCar)\n",
    "print(car1)\n",
    "print(moto)\n",
    "print(truck)\n"
   ]
  },
  {
   "cell_type": "code",
   "execution_count": 12,
   "id": "609ff6f2-086a-41f4-ae24-625101655a04",
   "metadata": {},
   "outputs": [
    {
     "name": "stdout",
     "output_type": "stream",
     "text": [
      "Available vehicles:\n",
      "Tesla S (2007) - $400/day - Available - Seats: 4, Fuel: Electric, Battery: 4000kWh\n",
      "BMW X5 (2005) - $400/day - Available - Seats: 4, Fuel: Diesel\n",
      "Suzuki G5 (2005) - $300/day - Available - Engine: 3000cc\n",
      "MAN GG (2003) - $500/day - Available - Max Load: 7000kg\n"
     ]
    }
   ],
   "source": [
    "rs.list_available()"
   ]
  },
  {
   "cell_type": "code",
   "execution_count": 17,
   "id": "db49639b-ea22-4f66-825e-46ff16326b81",
   "metadata": {},
   "outputs": [
    {
     "name": "stdout",
     "output_type": "stream",
     "text": [
      "Vehicle not available\n",
      "Available vehicles:\n",
      "Tesla S (2007) - $400/day - Available - Seats: 4, Fuel: Electric, Battery: 4000kWh\n",
      "Suzuki G5 (2005) - $300/day - Available - Engine: 3000cc\n",
      "MAN GG (2003) - $500/day - Available - Max Load: 7000kg\n"
     ]
    }
   ],
   "source": [
    "rs.rent_vehicle(car1,5)\n",
    "rs.list_available()"
   ]
  },
  {
   "cell_type": "code",
   "execution_count": 18,
   "id": "03bcce5e-6599-4f21-b547-eecac866d348",
   "metadata": {},
   "outputs": [
    {
     "name": "stdout",
     "output_type": "stream",
     "text": [
      "BMW X5 availability changed\n",
      "BMW X5 returned\n"
     ]
    }
   ],
   "source": [
    "rs.return_vehicle(car1)"
   ]
  },
  {
   "cell_type": "code",
   "execution_count": 19,
   "id": "c00178dc-44d3-443c-b33a-6438dd29840d",
   "metadata": {},
   "outputs": [
    {
     "name": "stdout",
     "output_type": "stream",
     "text": [
      "Available vehicles:\n",
      "Tesla S (2007) - $400/day - Available - Seats: 4, Fuel: Electric, Battery: 4000kWh\n",
      "BMW X5 (2005) - $400/day - Available - Seats: 4, Fuel: Diesel\n",
      "Suzuki G5 (2005) - $300/day - Available - Engine: 3000cc\n",
      "MAN GG (2003) - $500/day - Available - Max Load: 7000kg\n"
     ]
    }
   ],
   "source": [
    "rs.list_available()"
   ]
  },
  {
   "cell_type": "code",
   "execution_count": 23,
   "id": "a7aedc3e-51ad-4a2a-b303-965316c7b065",
   "metadata": {},
   "outputs": [
    {
     "name": "stdout",
     "output_type": "stream",
     "text": [
      "Found: MAN GG (2003) - $500/day - Available - Max Load: 7000kg\n",
      "Found: Tesla S (2007) - $400/day - Available - Seats: 4, Fuel: Electric, Battery: 4000kWh\n"
     ]
    },
    {
     "data": {
      "text/plain": [
       "<__main__.ElectricCar at 0x1b5efca9c70>"
      ]
     },
     "execution_count": 23,
     "metadata": {},
     "output_type": "execute_result"
    }
   ],
   "source": [
    "rs.search_vehicles(\"GG\")\n",
    "rs.search_vehicles(\"S\")\n"
   ]
  },
  {
   "cell_type": "code",
   "execution_count": 27,
   "id": "576afb2d-f85a-4442-a9df-fbb8d815981e",
   "metadata": {},
   "outputs": [
    {
     "name": "stdout",
     "output_type": "stream",
     "text": [
      "By price\n",
      "Available vehicles:\n",
      "Suzuki G5 (2005) - $300/day - Available - Engine: 3000cc\n",
      "Tesla S (2007) - $400/day - Available - Seats: 4, Fuel: Electric, Battery: 4000kWh\n",
      "BMW X5 (2005) - $400/day - Available - Seats: 4, Fuel: Diesel\n",
      "MAN GG (2003) - $500/day - Available - Max Load: 7000kg\n"
     ]
    }
   ],
   "source": [
    "rs.sort_by_prices()\n",
    "rs.list_available()"
   ]
  },
  {
   "cell_type": "code",
   "execution_count": 29,
   "id": "ca1dcf45-b788-4eb5-991c-a67d5ec8fc1c",
   "metadata": {},
   "outputs": [
    {
     "name": "stdout",
     "output_type": "stream",
     "text": [
      "By price\n",
      "Available vehicles:\n",
      "MAN GG (2003) - $500/day - Available - Max Load: 7000kg\n",
      "Suzuki G5 (2005) - $300/day - Available - Engine: 3000cc\n",
      "BMW X5 (2005) - $400/day - Available - Seats: 4, Fuel: Diesel\n",
      "Tesla S (2007) - $400/day - Available - Seats: 4, Fuel: Electric, Battery: 4000kWh\n"
     ]
    }
   ],
   "source": [
    "rs.sort_by_years()\n",
    "rs.list_available()"
   ]
  },
  {
   "cell_type": "code",
   "execution_count": 30,
   "id": "e55b5aa1-b9b3-4ce6-92ef-ee3de7d3fcf1",
   "metadata": {},
   "outputs": [
    {
     "name": "stdout",
     "output_type": "stream",
     "text": [
      "False\n"
     ]
    }
   ],
   "source": [
    "print(car1 == moto)"
   ]
  },
  {
   "cell_type": "code",
   "execution_count": 39,
   "id": "30d0649f-aabf-4ad7-821b-4d8ecdf39b4d",
   "metadata": {},
   "outputs": [
    {
     "name": "stdout",
     "output_type": "stream",
     "text": [
      "False\n",
      "True\n"
     ]
    }
   ],
   "source": [
    "car2 = Car(\"Toyota\", \"Camry\", 2022, 150, True, 5, \"Gasoline\")\n",
    "car3 = Car(\"BMW\", \"X6\", 2005, 500, True, 4, \"Diesel\")\n",
    "\n",
    "print(car2 > car3)\n",
    "print(car3 > car2)"
   ]
  },
  {
   "cell_type": "code",
   "execution_count": null,
   "id": "a20c1bd2-8bbf-4786-8a96-732de06232c3",
   "metadata": {},
   "outputs": [],
   "source": []
  }
 ],
 "metadata": {
  "kernelspec": {
   "display_name": "Python 3 (ipykernel)",
   "language": "python",
   "name": "python3"
  },
  "language_info": {
   "codemirror_mode": {
    "name": "ipython",
    "version": 3
   },
   "file_extension": ".py",
   "mimetype": "text/x-python",
   "name": "python",
   "nbconvert_exporter": "python",
   "pygments_lexer": "ipython3",
   "version": "3.13.5"
  }
 },
 "nbformat": 4,
 "nbformat_minor": 5
}
